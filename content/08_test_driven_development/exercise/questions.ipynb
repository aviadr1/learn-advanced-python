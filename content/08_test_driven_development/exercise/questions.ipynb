{
  "nbformat": 4,
  "nbformat_minor": 0,
  "metadata": {
    "colab": {
      "name": "questions.ipynb",
      "provenance": []
    },
    "kernelspec": {
      "display_name": "Python 3",
      "language": "python",
      "name": "python3"
    },
    "language_info": {
      "codemirror_mode": {
        "name": "ipython",
        "version": 3
      },
      "file_extension": ".py",
      "mimetype": "text/x-python",
      "name": "python",
      "nbconvert_exporter": "python",
      "pygments_lexer": "ipython3",
      "version": "3.7.3"
    }
  },
  "cells": [
    {
      "cell_type": "markdown",
      "metadata": {
        "id": "nvNYaKfvSTVn"
      },
      "source": [
        "\n",
        "<a href=\"https://colab.research.google.com/github/aviadr1/learn-advanced-python/blob/master/content/08_test_driven_development/exercise/questions.ipynb\" target=\"_blank\">\n",
        "<img src=\"https://colab.research.google.com/assets/colab-badge.svg\" \n",
        "     title=\"Open this file in Google Colab\" alt=\"Colab\"/>\n",
        "</a>\n"
      ]
    },
    {
      "cell_type": "markdown",
      "metadata": {
        "id": "OQl7KWfqSTV3"
      },
      "source": [
        "# Unit testing a contact list\n",
        "\n",
        "The code sample below has `Contact` class that contains both a `Person` and an `Address` class, and finally, a `Notebook` class that contains multiple contacts.\n",
        "\n",
        "Can you use `pytest` and `unittest.mock` modules to write tests for these classes and fix the bugs in this code"
      ]
    },
    {
      "cell_type": "code",
      "metadata": {
        "id": "6kcpOFLASTXJ"
      },
      "source": [
        "### useful: This is the code you should test\n",
        "\n",
        "class Address:\n",
        "    def __init__(self, street, city):\n",
        "        self.street = str(street)\n",
        "        self.city = str(city)\n",
        "\n",
        "    def __repr__(self):\n",
        "        return f\"Address({self.city!r}, {self.street!r})\"\n",
        "\n",
        "class Person:\n",
        "    def __init__(self, name, email):\n",
        "        self.name = name\n",
        "        self.email= email\n",
        "\n",
        "    def __repr__(self):\n",
        "        return f\"Person({self.name!r}, {self.email!r})\"\n",
        "        \n",
        "class Contact:\n",
        "    def __init__(self, street, city, name, email, **kwargs):\n",
        "        self.person = Person(name, email)\n",
        "        self.address = Address(street, city)\n",
        "    \n",
        "    def __str__(self):\n",
        "        return f\"\"\"\\\n",
        "        {self.person.name}:\n",
        "            {self.person.email}\n",
        "            address:\n",
        "                {self.address.city}\n",
        "                {self.address.street}\n",
        "        \"\"\"\n",
        "        \n",
        "class Notebook:\n",
        "    def __init__(self):\n",
        "        self.contacts = dict()\n",
        "\n",
        "    def add(self, street, city, name, email):\n",
        "        self.contacts[name] = Contact(name, email, city, street)\n",
        "\n",
        "    def remove(name):\n",
        "        self.contacts.remove(name)\n",
        "        \n",
        "    def __str__(self):\n",
        "        results = []\n",
        "        for name, contact in self.contacts.items():\n",
        "            results.append(str(contact))\n",
        "            results.append(\"\")\n",
        "        return '\\n'.join(results)"
      ],
      "execution_count": 4,
      "outputs": []
    },
    {
      "cell_type": "code",
      "metadata": {
        "id": "cy0eNIDeSTXc"
      },
      "source": [
        "%pip install -qq ipytest"
      ],
      "execution_count": 5,
      "outputs": []
    },
    {
      "cell_type": "code",
      "metadata": {
        "id": "5axHoqGFSTXi",
        "outputId": "c52a961e-d2c8-4cee-9a63-1604e018faf0",
        "colab": {
          "base_uri": "https://localhost:8080/"
        }
      },
      "source": [
        "### useful: run the tests you wrote\n",
        "import ipytest\n",
        "\n",
        "# enable pytest's assertions and ipytest's magics\n",
        "ipytest.autoconfig()\n",
        "\n",
        "# # set the filename\n",
        "# __file__ = 'ex 08 - solutions.ipynb'\n",
        "\n",
        "# execute the tests via pytest, arguments are passed to pytest\n",
        "ipytest.run('-qq')"
      ],
      "execution_count": 6,
      "outputs": [
        {
          "output_type": "stream",
          "text": [
            "\n"
          ],
          "name": "stdout"
        }
      ]
    }
  ]
}