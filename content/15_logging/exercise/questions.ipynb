{
  "nbformat": 4,
  "nbformat_minor": 0,
  "metadata": {
    "colab": {
      "name": "questions.ipynb",
      "provenance": []
    },
    "kernelspec": {
      "display_name": "Python 3",
      "language": "python",
      "name": "python3"
    },
    "language_info": {
      "codemirror_mode": {
        "name": "ipython",
        "version": 3
      },
      "file_extension": ".py",
      "mimetype": "text/x-python",
      "name": "python",
      "nbconvert_exporter": "python",
      "pygments_lexer": "ipython3",
      "version": "3.7.3"
    }
  },
  "cells": [
    {
      "cell_type": "markdown",
      "metadata": {
        "id": "KQYUwn0QK-El"
      },
      "source": [
        "\n",
        "<a href=\"https://colab.research.google.com/github/aviadr1/learn-advanced-python/blob/master/content/15_logging/exercise/questions.ipynb\" target=\"_blank\">\n",
        "<img src=\"https://colab.research.google.com/assets/colab-badge.svg\" \n",
        "     title=\"Open this file in Google Colab\" alt=\"Colab\"/>\n",
        "</a>\n"
      ]
    },
    {
      "cell_type": "markdown",
      "metadata": {
        "id": "6QHV4GMKK-FH"
      },
      "source": [
        "# setup\n",
        "1. import the logging module\n",
        "2. call `.basicConfig()`\n",
        "3. setup autoreload to help reloading .py files from disk"
      ]
    },
    {
      "cell_type": "code",
      "metadata": {
        "id": "MUIL9RNqK-F1"
      },
      "source": [
        "### useful: please run this\n",
        "import logging\n",
        "logging.basicConfig()\n",
        "\n",
        "%load_ext autoreload\n",
        "%autoreload 2"
      ],
      "execution_count": null,
      "outputs": []
    },
    {
      "cell_type": "markdown",
      "metadata": {
        "id": "ELm38cKVK-F7"
      },
      "source": [
        "# Basic\n",
        "1. import \n",
        "1. Create a new python file named `ex1.py` which should:\n",
        "    1. Import the logging module\n",
        "    2. create a logger instance named `__name__`\n",
        "    3. Create a function called `say_something()` that logs a ‘warning’ message with the text: `\"This a warning message!\"`.\n",
        "2. use the file\n",
        "   1. `import ex1`\n",
        "   2. call `ex1.say_something()`\n",
        "\n"
      ]
    },
    {
      "cell_type": "code",
      "metadata": {
        "id": "t3YRbnlkK-GG",
        "outputId": "fcdcc336-4d9b-484c-ff7c-41a49da16eef"
      },
      "source": [
        ""
      ],
      "execution_count": null,
      "outputs": [
        {
          "output_type": "stream",
          "text": [
            "Overwriting ex1.py\n"
          ],
          "name": "stdout"
        }
      ]
    },
    {
      "cell_type": "code",
      "metadata": {
        "id": "RBawNjSVK-GL",
        "outputId": "f4706185-84a7-48a7-a438-473cf4aa2ba6"
      },
      "source": [
        "### useful: run your ex1.py\n",
        "import ex1\n",
        "ex1.say_something()"
      ],
      "execution_count": null,
      "outputs": [
        {
          "output_type": "stream",
          "text": [
            "WARNING:ex1:this is a warning message\n"
          ],
          "name": "stderr"
        }
      ]
    },
    {
      "cell_type": "markdown",
      "metadata": {
        "id": "h1X1WZnYK-GT"
      },
      "source": [
        "# Log level\n",
        "\n",
        "1. Create a new python file named ‘ex2.py‘ which should:\n",
        "    1. Import the logging module\n",
        "    2. create a logger instance named `__name__`\n",
        "    2. set the logger's level to `logging.DEBUG`\n",
        "    3. create a function called `say_something()` which logs an ‘info’ message with the text: “This an informative message!”.\n",
        "2. use this file\n",
        "   1. import ex2\n",
        "   1. call `ex2.say_something()`"
      ]
    },
    {
      "cell_type": "code",
      "metadata": {
        "id": "pKH0hV_rK-GX",
        "outputId": "ecdf9313-897b-4f18-8d83-f2b42edcb635"
      },
      "source": [
        ""
      ],
      "execution_count": null,
      "outputs": [
        {
          "output_type": "stream",
          "text": [
            "Overwriting ex2.py\n"
          ],
          "name": "stdout"
        }
      ]
    },
    {
      "cell_type": "code",
      "metadata": {
        "id": "rptKwYJRK-Gb",
        "outputId": "39b03177-1dfa-49cd-e59e-90a58c5cfec5"
      },
      "source": [
        "### useful: run your ex2.py\n",
        "import ex2\n",
        "ex2.say_something()"
      ],
      "execution_count": null,
      "outputs": [
        {
          "output_type": "stream",
          "text": [
            "2019-12-26 03:59:51,749 :: INFO :: Module ex2 :: Line No 8 :: this is an informative message\n"
          ],
          "name": "stderr"
        }
      ]
    },
    {
      "cell_type": "markdown",
      "metadata": {
        "id": "A6gheX1rK-Gl"
      },
      "source": [
        "# Configuration\n",
        "1. setup\n",
        "   1. change the level of ex2's logger to DEBUG\n",
        "   2. call `ex2.say_something()` - this should write the usual output \n",
        "   <br><br>\n",
        "   \n",
        "1. Review this basic YAML configuration, and see that you understand how it will:\n",
        "   1. set a simple format that is the same as the default format\n",
        "   2. set a handler that logs to console\n",
        "   3. connect the root logger to the console handler, with level WARNING\n",
        "   4. modify the level for the ex2 logger to ERROR\n",
        "      ```\n",
        "      version: 1\n",
        "      disable_existing_loggers: False\n",
        "      formatters:\n",
        "        simple:\n",
        "          format: '%(levelname)s:%(name)s:%(message)s'\n",
        "      handlers:\n",
        "        console:\n",
        "          class: logging.StreamHandler\n",
        "          formatter: simple\n",
        "          stream: ext://sys.stderr\n",
        "      loggers:\n",
        "        ex2:\n",
        "          level: ERROR\n",
        "      root:\n",
        "        level: WARNING\n",
        "        handlers: [console]\n",
        "      ``` \n",
        "      <br><br>\n",
        "2. load this configuration\n",
        "   1. import the `yaml` module\n",
        "   2. use `yaml.load()` to read this configuration into a `dict` object\n",
        "   3. import logging.config module\n",
        "   4. use `logging.config.dictConfig()` function to load the configuration from your dict <br>\n",
        "   <br><br>\n",
        "   \n",
        "3. execute `ex2.say_something()` again. this time there should not be any output. \n",
        "   why?\n",
        "\n",
        "\n"
      ]
    },
    {
      "cell_type": "code",
      "metadata": {
        "id": "H4YyrErMK-Gr",
        "outputId": "73df1686-111a-441b-eb2e-914b3c65bfc4"
      },
      "source": [
        ""
      ],
      "execution_count": null,
      "outputs": [
        {
          "output_type": "stream",
          "text": [
            "INFO:ex2:this is an informative message\n"
          ],
          "name": "stderr"
        }
      ]
    },
    {
      "cell_type": "markdown",
      "metadata": {
        "id": "6g_hTWSaK-Gs"
      },
      "source": [
        "# Format #1\n",
        "\n",
        "Copy the YAML configuration from the previous question, and change the formatter so that output from calling `ex1.say_something()` will look like this\n",
        "`2019-12-26 03:07:04,560 | WARNING | ex1 | this is a warning message`\n",
        "\n",
        "\n",
        "hints:\n",
        "- Read the [LogRecord](https://docs.python.org/3/library/logging.html#logrecord-attributes) documentaion, which shows the attributes available for formatting\n"
      ]
    },
    {
      "cell_type": "code",
      "metadata": {
        "id": "Nx-ssBQ3K-G0",
        "outputId": "6bc0bdeb-1f4f-4760-9f60-86c405db8e3c"
      },
      "source": [
        ""
      ],
      "execution_count": null,
      "outputs": [
        {
          "output_type": "stream",
          "text": [
            "2019-12-26 03:07:04,560 | WARNING | ex1 | this is a warning message\n"
          ],
          "name": "stderr"
        }
      ]
    },
    {
      "cell_type": "markdown",
      "metadata": {
        "id": "zmdrX0yWK-G2"
      },
      "source": [
        "# Format #2\n",
        "Copy the YAML configuration from the previous question, and change the formatter so that output from calling `ex1.say_something()` will look like this: \n",
        "\n",
        "`2019-12-26 03:10:19,852 :: WARNING :: Module ex1 :: Line No 6 :: this is a warning message`"
      ]
    },
    {
      "cell_type": "code",
      "metadata": {
        "id": "b2_F33HdK-G4",
        "outputId": "841651e0-41ee-43ec-c2f9-d790c07be3bd"
      },
      "source": [
        ""
      ],
      "execution_count": null,
      "outputs": [
        {
          "output_type": "stream",
          "text": [
            "2019-12-26 03:10:19,852 :: WARNING :: Module ex1 :: Line No 6 :: this is a warning message\n"
          ],
          "name": "stderr"
        }
      ]
    },
    {
      "cell_type": "markdown",
      "metadata": {
        "id": "wi30T0EUK-G7"
      },
      "source": [
        "# file handler\n",
        "\n",
        "- Use YAML configuration to\n",
        "  1. set the levels of both `ex1` and `ex2` loggers to DEBUG\n",
        "  2. setup file logging for `ex2` logger so that it writes to `ex2.log`\n",
        "  \n",
        "- test this by calling \n",
        "  ```python\n",
        "  ex1.say_something()\n",
        "  ex2.say_something()\n",
        "  ```\n",
        "  and reading `ex2.log`\n"
      ]
    },
    {
      "cell_type": "code",
      "metadata": {
        "id": "-Tcd3MB7K-G8",
        "outputId": "ba95e771-a0eb-467b-801b-dfce274627bf"
      },
      "source": [
        ""
      ],
      "execution_count": null,
      "outputs": [
        {
          "output_type": "stream",
          "text": [
            "2019-12-26 03:21:42,823 :: WARNING :: Module ex1 :: Line No 6 :: this is a warning message\n",
            "2019-12-26 03:21:42,824 :: INFO :: Module ex2 :: Line No 8 :: this is an informative message\n"
          ],
          "name": "stderr"
        },
        {
          "output_type": "stream",
          "text": [
            "ex2.log: 2019-12-26 03:21:42,824 :: INFO :: Module ex2 :: Line No 8 :: this is an informative message\n",
            "\n"
          ],
          "name": "stdout"
        }
      ]
    },
    {
      "cell_type": "code",
      "metadata": {
        "id": "rHPFt7tnK-G9",
        "outputId": "b3af4844-1c34-4c39-c632-1bd716dcd49c"
      },
      "source": [
        ""
      ],
      "execution_count": null,
      "outputs": [
        {
          "output_type": "stream",
          "text": [
            " Volume in drive E is New Volume\n",
            " Volume Serial Number is 5C7B-188A\n",
            "\n",
            " Directory of E:\\dev\\GitHub\\learn-advanced-python\\content\\15_logging\\exercise\n",
            "\n",
            "26-Dec-19  03:18 AM    <DIR>          .\n",
            "26-Dec-19  03:18 AM    <DIR>          ..\n",
            "26-Dec-19  01:00 AM    <DIR>          .ipynb_checkpoints\n",
            "26-Dec-19  03:06 AM               129 ex1.py\n",
            "26-Dec-19  03:18 AM                 0 ex2.log\n",
            "26-Dec-19  03:06 AM               165 ex2.py\n",
            "26-Dec-19  01:14 AM               124 example.py\n",
            "26-Dec-19  03:18 AM            30,516 solutions.ipynb\n",
            "26-Dec-19  03:06 AM    <DIR>          __pycache__\n",
            "               5 File(s)         30,934 bytes\n",
            "               4 Dir(s)  3,086,822,178,816 bytes free\n"
          ],
          "name": "stdout"
        }
      ]
    },
    {
      "cell_type": "code",
      "metadata": {
        "id": "Fa74KBneK-IM"
      },
      "source": [
        ""
      ],
      "execution_count": null,
      "outputs": []
    },
    {
      "cell_type": "markdown",
      "metadata": {
        "id": "xtoFFi4ULXqf"
      },
      "source": [
        "# rolling / rotating files\n",
        "\n",
        "1. use `TimedRotatingFileHandler` to write a log file that only keeps the messages written in the last 20 seconds and the previous messages are kept in other files names. write 60 messages, 1 every second\n",
        "\n",
        "2. use `RotatingFileHandler` to write a log file that only grows to 1Kb of data before being renamed and opening a new file. write a 1000 messages to the log\n"
      ]
    },
    {
      "cell_type": "code",
      "metadata": {
        "id": "HbO2ealHL2CK"
      },
      "source": [
        ""
      ],
      "execution_count": null,
      "outputs": []
    },
    {
      "cell_type": "markdown",
      "metadata": {
        "id": "IJ-NRgV5L3Mv"
      },
      "source": [
        "# advanced: first N errors filter\n",
        "\n",
        "write a filter that only passes the first N (say, 5) messages through, after which all messages are blocked. this could be useful for only showing the first few errors in a process without overwhelming the log file"
      ]
    },
    {
      "cell_type": "code",
      "metadata": {
        "id": "VI6Qr3tkMG5N",
        "outputId": "810859b9-fc94-4daf-e954-16d109bbd39c",
        "colab": {
          "base_uri": "https://localhost:8080/"
        }
      },
      "source": [
        "%%python\n",
        "\n",
        "import logging\n",
        "###\n",
        "### 1. write a filter class\n",
        "### 2. configure the root logger to use this class\n",
        "###\n",
        "\n",
        "logger = logging.getLogger('test_my_filter')\n",
        "for i in range(10):\n",
        "    logger.error('test message %d', i)\n",
        "    "
      ],
      "execution_count": 1,
      "outputs": [
        {
          "output_type": "stream",
          "text": [
            "test message 0\n",
            "test message 1\n",
            "test message 2\n",
            "test message 3\n",
            "test message 4\n",
            "test message 5\n",
            "test message 6\n",
            "test message 7\n",
            "test message 8\n",
            "test message 9\n"
          ],
          "name": "stderr"
        }
      ]
    },
    {
      "cell_type": "code",
      "metadata": {
        "id": "5t45Lzd8MX_W"
      },
      "source": [
        ""
      ],
      "execution_count": null,
      "outputs": []
    }
  ]
}